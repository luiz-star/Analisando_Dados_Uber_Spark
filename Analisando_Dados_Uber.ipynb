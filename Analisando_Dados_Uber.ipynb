{
  "nbformat": 4,
  "nbformat_minor": 0,
  "metadata": {
    "anaconda-cloud": {},
    "kernelspec": {
      "display_name": "Python 3",
      "language": "python",
      "name": "python3"
    },
    "language_info": {
      "codemirror_mode": {
        "name": "ipython",
        "version": 3
      },
      "file_extension": ".py",
      "mimetype": "text/x-python",
      "name": "python",
      "nbconvert_exporter": "python",
      "pygments_lexer": "ipython3",
      "version": "3.7.3"
    },
    "colab": {
      "name": "Analisando-Dados-Uber.ipynb",
      "provenance": [],
      "include_colab_link": true
    }
  },
  "cells": [
    {
      "cell_type": "markdown",
      "metadata": {
        "id": "view-in-github",
        "colab_type": "text"
      },
      "source": [
        "<a href=\"https://colab.research.google.com/github/luiz-star/Analisando_Dados_Uber_Spark/blob/main/Analisando_Dados_Uber.ipynb\" target=\"_parent\"><img src=\"https://colab.research.google.com/assets/colab-badge.svg\" alt=\"Open In Colab\"/></a>"
      ]
    },
    {
      "cell_type": "markdown",
      "metadata": {
        "id": "NgwjSwFQCmr7"
      },
      "source": [
        "\n",
        "# <font color='blue'>Big Data Real-Time Analytics com Python e Spark</font>\n",
        "\n"
      ]
    },
    {
      "cell_type": "markdown",
      "metadata": {
        "id": "BjEb4xwACmsK"
      },
      "source": [
        "### *********** Atenção: *********** \n",
        "Utilize Java JDK 11 e Apache Spark 2.4.2"
      ]
    },
    {
      "cell_type": "markdown",
      "metadata": {
        "id": "tMSbgZqCCmsN"
      },
      "source": [
        "*Caso receba mensagem de erro \"name 'sc' is not defined\", interrompa o pyspark e apague o diretório metastore_db no mesmo diretório onde está este Jupyter notebook*"
      ]
    },
    {
      "cell_type": "markdown",
      "metadata": {
        "id": "JVKYfT4iCmsP"
      },
      "source": [
        "#  - Analisando Dados do Uber com Spark "
      ]
    },
    {
      "cell_type": "markdown",
      "metadata": {
        "id": "08OXXtgeCmsQ"
      },
      "source": [
        "Dataset: https://github.com/fivethirtyeight/uber-tlc-foil-response"
      ]
    },
    {
      "cell_type": "markdown",
      "metadata": {
        "id": "6nmIPAzdCmsQ"
      },
      "source": [
        "Esse conjunto de dados contém dados de mais de 4,5 milhões de captações Uber na cidade de Nova York de abril a setembro de 2014 e 14,3 milhões de captações Uber de janeiro a junho de 2015. Dados em nível de viagem sobre 10 outras empresas de veículos de aluguel (FHV) bem como dados agregados para 329 empresas de FHV, também estão incluídos. Todos os arquivos foram recebidos em 3 de agosto, 15 de setembro e 22 de setembro de 2015."
      ]
    },
    {
      "cell_type": "markdown",
      "metadata": {
        "id": "EjTqlC9nCmsS"
      },
      "source": [
        "1- Quantos são e quais são as bases de carros do Uber (onde os carros ficam esperando passageiros)?\n",
        "\n",
        "2- Qual o total de veículos que passaram pela base B02617?\n",
        "\n",
        "3- Qual o total de corridas por base? Apresente de forma decrescente."
      ]
    },
    {
      "cell_type": "code",
      "metadata": {
        "id": "KReczfkaCmsb"
      },
      "source": [
        "from pandas import read_csv"
      ],
      "execution_count": null,
      "outputs": []
    },
    {
      "cell_type": "code",
      "metadata": {
        "id": "ceTnxszBCmse"
      },
      "source": [
        "# Criando um objeto Pandas\n",
        "uberFile = read_csv(\"data/uber.csv\")"
      ],
      "execution_count": null,
      "outputs": []
    },
    {
      "cell_type": "code",
      "metadata": {
        "id": "02Ojg-KTCmsg",
        "outputId": "a1718c79-5d01-4467-f3aa-48d8be6319d0"
      },
      "source": [
        "type(uberFile)"
      ],
      "execution_count": null,
      "outputs": [
        {
          "output_type": "execute_result",
          "data": {
            "text/plain": [
              "pandas.core.frame.DataFrame"
            ]
          },
          "metadata": {
            "tags": []
          },
          "execution_count": 3
        }
      ]
    },
    {
      "cell_type": "code",
      "metadata": {
        "id": "mFLgxH-uCmsj",
        "outputId": "e916f904-8723-4afd-e753-1b8c466a1d06"
      },
      "source": [
        "# Visualizando as primeiras linhas\n",
        "uberFile.head(10)"
      ],
      "execution_count": null,
      "outputs": [
        {
          "output_type": "execute_result",
          "data": {
            "text/html": [
              "<div>\n",
              "<style scoped>\n",
              "    .dataframe tbody tr th:only-of-type {\n",
              "        vertical-align: middle;\n",
              "    }\n",
              "\n",
              "    .dataframe tbody tr th {\n",
              "        vertical-align: top;\n",
              "    }\n",
              "\n",
              "    .dataframe thead th {\n",
              "        text-align: right;\n",
              "    }\n",
              "</style>\n",
              "<table border=\"1\" class=\"dataframe\">\n",
              "  <thead>\n",
              "    <tr style=\"text-align: right;\">\n",
              "      <th></th>\n",
              "      <th>dispatching_base_number</th>\n",
              "      <th>date</th>\n",
              "      <th>active_vehicles</th>\n",
              "      <th>trips</th>\n",
              "    </tr>\n",
              "  </thead>\n",
              "  <tbody>\n",
              "    <tr>\n",
              "      <th>0</th>\n",
              "      <td>B02512</td>\n",
              "      <td>1/1/2015</td>\n",
              "      <td>190</td>\n",
              "      <td>1132</td>\n",
              "    </tr>\n",
              "    <tr>\n",
              "      <th>1</th>\n",
              "      <td>B02765</td>\n",
              "      <td>1/1/2015</td>\n",
              "      <td>225</td>\n",
              "      <td>1765</td>\n",
              "    </tr>\n",
              "    <tr>\n",
              "      <th>2</th>\n",
              "      <td>B02764</td>\n",
              "      <td>1/1/2015</td>\n",
              "      <td>3427</td>\n",
              "      <td>29421</td>\n",
              "    </tr>\n",
              "    <tr>\n",
              "      <th>3</th>\n",
              "      <td>B02682</td>\n",
              "      <td>1/1/2015</td>\n",
              "      <td>945</td>\n",
              "      <td>7679</td>\n",
              "    </tr>\n",
              "    <tr>\n",
              "      <th>4</th>\n",
              "      <td>B02617</td>\n",
              "      <td>1/1/2015</td>\n",
              "      <td>1228</td>\n",
              "      <td>9537</td>\n",
              "    </tr>\n",
              "    <tr>\n",
              "      <th>5</th>\n",
              "      <td>B02598</td>\n",
              "      <td>1/1/2015</td>\n",
              "      <td>870</td>\n",
              "      <td>6903</td>\n",
              "    </tr>\n",
              "    <tr>\n",
              "      <th>6</th>\n",
              "      <td>B02598</td>\n",
              "      <td>1/2/2015</td>\n",
              "      <td>785</td>\n",
              "      <td>4768</td>\n",
              "    </tr>\n",
              "    <tr>\n",
              "      <th>7</th>\n",
              "      <td>B02617</td>\n",
              "      <td>1/2/2015</td>\n",
              "      <td>1137</td>\n",
              "      <td>7065</td>\n",
              "    </tr>\n",
              "    <tr>\n",
              "      <th>8</th>\n",
              "      <td>B02512</td>\n",
              "      <td>1/2/2015</td>\n",
              "      <td>175</td>\n",
              "      <td>875</td>\n",
              "    </tr>\n",
              "    <tr>\n",
              "      <th>9</th>\n",
              "      <td>B02682</td>\n",
              "      <td>1/2/2015</td>\n",
              "      <td>890</td>\n",
              "      <td>5506</td>\n",
              "    </tr>\n",
              "  </tbody>\n",
              "</table>\n",
              "</div>"
            ],
            "text/plain": [
              "  dispatching_base_number      date  active_vehicles  trips\n",
              "0                  B02512  1/1/2015              190   1132\n",
              "1                  B02765  1/1/2015              225   1765\n",
              "2                  B02764  1/1/2015             3427  29421\n",
              "3                  B02682  1/1/2015              945   7679\n",
              "4                  B02617  1/1/2015             1228   9537\n",
              "5                  B02598  1/1/2015              870   6903\n",
              "6                  B02598  1/2/2015              785   4768\n",
              "7                  B02617  1/2/2015             1137   7065\n",
              "8                  B02512  1/2/2015              175    875\n",
              "9                  B02682  1/2/2015              890   5506"
            ]
          },
          "metadata": {
            "tags": []
          },
          "execution_count": 4
        }
      ]
    },
    {
      "cell_type": "code",
      "metadata": {
        "id": "BzYq-06zCmsl"
      },
      "source": [
        "# Tranformando o dataframe (Pandas) em um Dataframe (Spark)\n",
        "uberDF = sqlContext.createDataFrame(uberFile)"
      ],
      "execution_count": null,
      "outputs": []
    },
    {
      "cell_type": "code",
      "metadata": {
        "id": "qqTrUl3ACmsq",
        "outputId": "980c0dc4-a1eb-4b4f-8aaf-1fa61c0307cb"
      },
      "source": [
        "type(uberDF)"
      ],
      "execution_count": null,
      "outputs": [
        {
          "output_type": "execute_result",
          "data": {
            "text/plain": [
              "pyspark.sql.dataframe.DataFrame"
            ]
          },
          "metadata": {
            "tags": []
          },
          "execution_count": 6
        }
      ]
    },
    {
      "cell_type": "code",
      "metadata": {
        "id": "E8pkFZz1Cmsr"
      },
      "source": [
        "# Criando o RDD a partir do arquivo csv\n",
        "uberRDD = sc.textFile(\"data/uber.csv\")"
      ],
      "execution_count": null,
      "outputs": []
    },
    {
      "cell_type": "code",
      "metadata": {
        "id": "pPL2MWdLCmsr",
        "outputId": "108d5bbe-75b7-41bb-82ef-e076359dcc54"
      },
      "source": [
        "type(uberRDD)"
      ],
      "execution_count": null,
      "outputs": [
        {
          "output_type": "execute_result",
          "data": {
            "text/plain": [
              "pyspark.rdd.RDD"
            ]
          },
          "metadata": {
            "tags": []
          },
          "execution_count": 8
        }
      ]
    },
    {
      "cell_type": "code",
      "metadata": {
        "id": "ciasZsFHCmss",
        "outputId": "81300b6e-07a9-48af-e119-8038d3c1b76b"
      },
      "source": [
        "# Total de registros\n",
        "uberRDD.count()"
      ],
      "execution_count": null,
      "outputs": [
        {
          "output_type": "execute_result",
          "data": {
            "text/plain": [
              "355"
            ]
          },
          "metadata": {
            "tags": []
          },
          "execution_count": 9
        }
      ]
    },
    {
      "cell_type": "code",
      "metadata": {
        "id": "ux5e8AymCmss",
        "outputId": "1328b177-cca3-4645-bac5-9939235407dd"
      },
      "source": [
        "# Primeiro registro\n",
        "uberRDD.first()"
      ],
      "execution_count": null,
      "outputs": [
        {
          "output_type": "execute_result",
          "data": {
            "text/plain": [
              "'dispatching_base_number,date,active_vehicles,trips'"
            ]
          },
          "metadata": {
            "tags": []
          },
          "execution_count": 10
        }
      ]
    },
    {
      "cell_type": "code",
      "metadata": {
        "id": "PFHEf7hbCmst"
      },
      "source": [
        "# Dividindo o arquivo em colunas, separadas pelo caracter \",\"\"\n",
        "uberLinhas = uberRDD.map(lambda line: line.split(\",\"))"
      ],
      "execution_count": null,
      "outputs": []
    },
    {
      "cell_type": "code",
      "metadata": {
        "id": "GrJWVD6TCmst",
        "outputId": "01e9ac31-6235-4941-859b-291f940bf11f"
      },
      "source": [
        "type(uberLinhas)"
      ],
      "execution_count": null,
      "outputs": [
        {
          "output_type": "execute_result",
          "data": {
            "text/plain": [
              "pyspark.rdd.PipelinedRDD"
            ]
          },
          "metadata": {
            "tags": []
          },
          "execution_count": 12
        }
      ]
    },
    {
      "cell_type": "code",
      "metadata": {
        "id": "CZLOTjY8Cmsu",
        "outputId": "a3861e1e-4434-4423-e53a-7b0eabfea1df"
      },
      "source": [
        "# Número de bases de carros do Uber\n",
        "uberLinhas.map(lambda linha: linha[0]).distinct().count() -1"
      ],
      "execution_count": null,
      "outputs": [
        {
          "output_type": "execute_result",
          "data": {
            "text/plain": [
              "6"
            ]
          },
          "metadata": {
            "tags": []
          },
          "execution_count": 13
        }
      ]
    },
    {
      "cell_type": "code",
      "metadata": {
        "id": "4QtYZqfbCmsu",
        "outputId": "45f2408c-abd7-4d41-ea55-90478878a0ec"
      },
      "source": [
        "# Bases de carros do Uber\n",
        "uberLinhas.map(lambda linha: linha[0]).distinct().collect()"
      ],
      "execution_count": null,
      "outputs": [
        {
          "output_type": "execute_result",
          "data": {
            "text/plain": [
              "['dispatching_base_number',\n",
              " 'B02765',\n",
              " 'B02682',\n",
              " 'B02598',\n",
              " 'B02512',\n",
              " 'B02764',\n",
              " 'B02617']"
            ]
          },
          "metadata": {
            "tags": []
          },
          "execution_count": 14
        }
      ]
    },
    {
      "cell_type": "code",
      "metadata": {
        "id": "ORO0H7ctCmsw",
        "outputId": "6cbb50b6-ab6d-4c46-b270-9af7382d9872"
      },
      "source": [
        "# Total de veículos que passaram pela base B02617\n",
        "uberLinhas.filter(lambda linha: \"B02617\" in linha).count()"
      ],
      "execution_count": null,
      "outputs": [
        {
          "output_type": "execute_result",
          "data": {
            "text/plain": [
              "59"
            ]
          },
          "metadata": {
            "tags": []
          },
          "execution_count": 15
        }
      ]
    },
    {
      "cell_type": "code",
      "metadata": {
        "id": "nSw7ddFTCmsx"
      },
      "source": [
        "# Gravando os dados dos veículos da base B02617 em um novo RDD\n",
        "b02617_RDD = uberLinhas.filter(lambda linha: \"B02617\" in linha)"
      ],
      "execution_count": null,
      "outputs": []
    },
    {
      "cell_type": "code",
      "metadata": {
        "id": "aG3CubiuCmsx",
        "outputId": "5f221b61-e56e-433c-d6d0-ffd384ab1de6"
      },
      "source": [
        "# Total de dias em que o número de corridas foi superior a 16.000\n",
        "b02617_RDD.filter(lambda linha: int(linha[3]) > 16000).count()"
      ],
      "execution_count": null,
      "outputs": [
        {
          "output_type": "execute_result",
          "data": {
            "text/plain": [
              "4"
            ]
          },
          "metadata": {
            "tags": []
          },
          "execution_count": 17
        }
      ]
    },
    {
      "cell_type": "code",
      "metadata": {
        "id": "vizJXE79Cmsy",
        "outputId": "6b2a054d-4d66-4635-dd4f-9348f97eb88c"
      },
      "source": [
        "# Dias em que o total de corridas foi superior a 16.000\n",
        "b02617_RDD.filter(lambda linha: int(linha[3]) > 16000).collect()"
      ],
      "execution_count": null,
      "outputs": [
        {
          "output_type": "execute_result",
          "data": {
            "text/plain": [
              "[['B02617', '2/13/2015', '1590', '16996'],\n",
              " ['B02617', '2/14/2015', '1486', '16999'],\n",
              " ['B02617', '2/20/2015', '1574', '16856'],\n",
              " ['B02617', '2/21/2015', '1443', '16098']]"
            ]
          },
          "metadata": {
            "tags": []
          },
          "execution_count": 18
        }
      ]
    },
    {
      "cell_type": "code",
      "metadata": {
        "id": "7l6vn_4PCmsy"
      },
      "source": [
        "# Criando um novo RDD\n",
        "uberRDD2 = sc.textFile(\"data/uber.csv\").filter(lambda line: \"base\" not in line).map(lambda line:line.split(\",\"))"
      ],
      "execution_count": null,
      "outputs": []
    },
    {
      "cell_type": "code",
      "metadata": {
        "id": "4XwyXofMCmsy",
        "outputId": "4c4846a7-5518-4da6-b425-1eeeab59c345"
      },
      "source": [
        "# Aplicando redução para calcular o total por base\n",
        "uberRDD2.map(lambda kp: (kp[0], int(kp[3])) ).reduceByKey(lambda k,v: k + v).collect()"
      ],
      "execution_count": null,
      "outputs": [
        {
          "output_type": "execute_result",
          "data": {
            "text/plain": [
              "[('B02765', 193670),\n",
              " ('B02682', 662509),\n",
              " ('B02598', 540791),\n",
              " ('B02512', 93786),\n",
              " ('B02764', 1914449),\n",
              " ('B02617', 725025)]"
            ]
          },
          "metadata": {
            "tags": []
          },
          "execution_count": 20
        }
      ]
    },
    {
      "cell_type": "code",
      "metadata": {
        "id": "L9Zjb-nvCmsz",
        "outputId": "25c027fd-726d-42a8-856d-f713aa94923e"
      },
      "source": [
        "# Aplicando redução para calcular o total por base, em ordem decrescente\n",
        "uberRDD2.map(lambda kp: (kp[0], int(kp[3])) ).reduceByKey(lambda k,v: k + v).takeOrdered(10, key = lambda x: -x[1])"
      ],
      "execution_count": null,
      "outputs": [
        {
          "output_type": "execute_result",
          "data": {
            "text/plain": [
              "[('B02764', 1914449),\n",
              " ('B02617', 725025),\n",
              " ('B02682', 662509),\n",
              " ('B02598', 540791),\n",
              " ('B02765', 193670),\n",
              " ('B02512', 93786)]"
            ]
          },
          "metadata": {
            "tags": []
          },
          "execution_count": 21
        }
      ]
    },
    {
      "cell_type": "markdown",
      "metadata": {
        "id": "Y5EzAP6WCmsz"
      },
      "source": [
        "# Fim"
      ]
    }
  ]
}